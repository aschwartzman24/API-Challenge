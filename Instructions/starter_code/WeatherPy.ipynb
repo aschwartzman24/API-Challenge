{
 "cells": [
  {
   "cell_type": "markdown",
   "metadata": {},
   "source": [
    "# WeatherPy\n",
    "----\n",
    "\n",
    "#### Note\n",
    "* Instructions have been included for each segment. You do not have to follow them exactly, but they are included to help you think through the steps."
   ]
  },
  {
   "cell_type": "code",
   "execution_count": 145,
   "metadata": {
    "scrolled": true
   },
   "outputs": [],
   "source": [
    "# Dependencies and Setup\n",
    "import matplotlib.pyplot as plt\n",
    "import pandas as pd\n",
    "import numpy as np\n",
    "import requests\n",
    "import time\n",
    "from scipy.stats import linregress\n",
    "\n",
    "# Import API key\n",
    "# from api_keys import weather_api_key\n",
    "\n",
    "# Incorporated citipy to determine city based on latitude and longitude\n",
    "from citipy import citipy\n",
    "\n",
    "# Output File (CSV)\n",
    "output_data_file = \"output_data/cities.csv\"\n",
    "\n",
    "# Range of latitudes and longitudes\n",
    "lat_range = (-90, 90)\n",
    "lng_range = (-180, 180)\n"
   ]
  },
  {
   "cell_type": "markdown",
   "metadata": {},
   "source": [
    "## Generate Cities List"
   ]
  },
  {
   "cell_type": "code",
   "execution_count": 146,
   "metadata": {},
   "outputs": [
    {
     "data": {
      "text/plain": [
       "637"
      ]
     },
     "execution_count": 146,
     "metadata": {},
     "output_type": "execute_result"
    }
   ],
   "source": [
    " # List for holding lat_lngs and cities\n",
    "lat_lngs = []\n",
    "cities = []\n",
    "\n",
    "# Create a set of random lat and lng combinations\n",
    "lats = np.random.uniform(low=-90.000, high=90.000, size=1500)\n",
    "lngs = np.random.uniform(low=-180.000, high=180.000, size=1500)\n",
    "lat_lngs = zip(lats, lngs)\n",
    "\n",
    "# Identify nearest city for each lat, lng combination\n",
    "for lat_lng in lat_lngs:\n",
    "    city = citipy.nearest_city(lat_lng[0], lat_lng[1]).city_name\n",
    "    \n",
    "    # If the city is unique, then add it to a our cities list\n",
    "    if city not in cities:\n",
    "        cities.append(city)\n",
    "\n",
    "# Print the city count to confirm sufficient count\n",
    "len(cities)\n"
   ]
  },
  {
   "cell_type": "markdown",
   "metadata": {},
   "source": [
    "### Perform API Calls\n",
    "* Perform a weather check on each city using a series of successive API calls.\n",
    "* Include a print log of each city as it'sbeing processed (with the city number and city name).\n"
   ]
  },
  {
   "cell_type": "code",
   "execution_count": 149,
   "metadata": {},
   "outputs": [],
   "source": [
    "# list holding data\n",
    "city_name = []\n",
    "cloudiness = []\n",
    "country = []\n",
    "date = []\n",
    "humidity = []\n",
    "lat = []\n",
    "lng = []\n",
    "temperature = []\n",
    "wind = []\n",
    "index_counter = 0\n",
    "set_one = 1"
   ]
  },
  {
   "cell_type": "code",
   "execution_count": 150,
   "metadata": {},
   "outputs": [
    {
     "name": "stdout",
     "output_type": "stream",
     "text": [
      "Beginning Data Retrieval \n",
      "-----------------------------\n",
      "Processing Record 0 of Set 1 : rikitea\n",
      "Processing Record 0 of Set 1 : fort nelson\n",
      "Processing Record 0 of Set 1 : qaanaaq\n",
      "Processing Record 0 of Set 1 : tasiilaq\n",
      "Processing Record 0 of Set 1 : thompson\n",
      "Processing Record 0 of Set 1 : walvis bay\n",
      "Processing Record 0 of Set 1 : waingapu\n",
      "Processing Record 0 of Set 1 : butaritari\n",
      "Processing Record 0 of Set 1 : ribeira grande\n",
      "Processing Record 0 of Set 1 : san cristobal\n",
      "City not found. Skipping...\n",
      "Processing Record 0 of Set 1 : puerto ayora\n",
      "Processing Record 0 of Set 1 : hatillo\n",
      "Processing Record 0 of Set 1 : hofn\n",
      "City not found. Skipping...\n",
      "Processing Record 0 of Set 1 : panaba\n",
      "City not found. Skipping...\n",
      "Processing Record 0 of Set 1 : norton\n",
      "Processing Record 0 of Set 1 : warrington\n",
      "Processing Record 0 of Set 1 : tateyama\n",
      "Processing Record 0 of Set 1 : port elizabeth\n",
      "Processing Record 0 of Set 1 : zhangjiakou\n",
      "Processing Record 0 of Set 1 : punta arenas\n",
      "Processing Record 0 of Set 1 : lagoa\n",
      "Processing Record 0 of Set 1 : laukaa\n",
      "Processing Record 0 of Set 1 : ushuaia\n",
      "Processing Record 0 of Set 1 : gizo\n",
      "Processing Record 0 of Set 1 : saldanha\n",
      "Processing Record 0 of Set 1 : kazachinskoye\n",
      "Processing Record 0 of Set 1 : mulchen\n",
      "Processing Record 0 of Set 1 : ponta do sol\n",
      "Processing Record 0 of Set 1 : victoria\n",
      "Processing Record 0 of Set 1 : busselton\n",
      "Processing Record 0 of Set 1 : yellowknife\n",
      "Processing Record 0 of Set 1 : atuona\n",
      "Processing Record 0 of Set 1 : sindou\n",
      "City not found. Skipping...\n",
      "Processing Record 0 of Set 1 : shieli\n",
      "Processing Record 0 of Set 1 : chapais\n",
      "Processing Record 0 of Set 1 : khatanga\n",
      "Processing Record 0 of Set 1 : saint-joseph\n",
      "Processing Record 0 of Set 1 : ancud\n",
      "Processing Record 0 of Set 1 : warrnambool\n",
      "Processing Record 0 of Set 1 : kirpilskaya\n",
      "Processing Record 0 of Set 1 : portland\n",
      "Processing Record 0 of Set 1 : albany\n",
      "Processing Record 0 of Set 1 : saskylakh\n",
      "Processing Record 0 of Set 1 : verkhnyaya toyma\n",
      "Processing Record 0 of Set 1 : nizhnevartovsk\n",
      "Processing Record 0 of Set 1 : dikson\n",
      "City not found. Skipping...\n",
      "Processing Record 0 of Set 1 : marzuq\n",
      "Processing Record 0 of Set 1 : iqaluit\n",
      "Processing Record 0 of Set 1 : mehamn\n",
      "City not found. Skipping...\n",
      "City not found. Skipping...\n",
      "Processing Record 0 of Set 1 : talnakh\n",
      "Processing Record 0 of Set 1 : kruisfontein\n",
      "Processing Record 0 of Set 1 : vaini\n",
      "Processing Record 0 of Set 1 : bambous virieux\n",
      "Processing Record 0 of Set 1 : caravelas\n",
      "Processing Record 0 of Set 1 : labrea\n",
      "Processing Record 0 of Set 1 : eureka\n",
      "Processing Record 0 of Set 1 : mataura\n",
      "Processing Record 0 of Set 1 : tuktoyaktuk\n",
      "Processing Record 0 of Set 1 : upernavik\n",
      "Processing Record 0 of Set 1 : giyon\n",
      "Processing Record 0 of Set 1 : hermanus\n",
      "Processing Record 0 of Set 1 : mahebourg\n",
      "Processing Record 0 of Set 1 : lixourion\n",
      "Processing Record 0 of Set 1 : kamenka\n",
      "Processing Record 0 of Set 1 : qasigiannguit\n",
      "Processing Record 0 of Set 1 : carnarvon\n",
      "Processing Record 0 of Set 1 : bluff\n",
      "Processing Record 0 of Set 1 : seoul\n",
      "Processing Record 0 of Set 1 : inhambane\n",
      "City not found. Skipping...\n",
      "Processing Record 0 of Set 1 : bredasdorp\n",
      "Processing Record 0 of Set 1 : alofi\n",
      "Processing Record 0 of Set 1 : college\n",
      "City not found. Skipping...\n",
      "Processing Record 0 of Set 1 : ratnagiri\n",
      "Processing Record 0 of Set 1 : cherskiy\n",
      "Processing Record 0 of Set 1 : spirit river\n",
      "Processing Record 0 of Set 1 : asau\n",
      "Processing Record 0 of Set 1 : hobart\n",
      "Processing Record 0 of Set 1 : kodiak\n",
      "Processing Record 0 of Set 1 : dzheyrakh\n",
      "Processing Record 0 of Set 1 : aitape\n",
      "Processing Record 0 of Set 1 : barrow\n",
      "Processing Record 0 of Set 1 : shenjiamen\n",
      "Processing Record 0 of Set 1 : grand gaube\n",
      "Processing Record 0 of Set 1 : filadelfia\n",
      "Processing Record 0 of Set 1 : avarua\n",
      "City not found. Skipping...\n",
      "City not found. Skipping...\n",
      "Processing Record 0 of Set 1 : castro\n",
      "Processing Record 0 of Set 1 : vao\n",
      "Processing Record 0 of Set 1 : ukiah\n",
      "Processing Record 0 of Set 1 : kemijarvi\n",
      "Processing Record 0 of Set 1 : sao filipe\n",
      "City not found. Skipping...\n",
      "Processing Record 0 of Set 1 : binzhou\n",
      "Processing Record 0 of Set 1 : mackay\n",
      "Processing Record 0 of Set 1 : high level\n",
      "Processing Record 0 of Set 1 : hualmay\n",
      "Processing Record 0 of Set 1 : hervey bay\n",
      "Processing Record 0 of Set 1 : sungai besar\n",
      "Processing Record 0 of Set 1 : tongliao\n",
      "Processing Record 0 of Set 1 : calatayud\n",
      "Processing Record 0 of Set 1 : luanda\n",
      "Processing Record 0 of Set 1 : codrington\n",
      "Processing Record 0 of Set 1 : bonavista\n",
      "Processing Record 0 of Set 1 : adrar\n",
      "Processing Record 0 of Set 1 : fortuna\n",
      "Processing Record 0 of Set 1 : krasnoselkup\n",
      "Processing Record 0 of Set 1 : avera\n",
      "Processing Record 0 of Set 1 : dalbandin\n",
      "Processing Record 0 of Set 1 : arlit\n",
      "Processing Record 0 of Set 1 : new norfolk\n",
      "Processing Record 0 of Set 1 : jensen beach\n",
      "City not found. Skipping...\n",
      "Processing Record 0 of Set 1 : barra do corda\n",
      "Processing Record 0 of Set 1 : bonthe\n",
      "Processing Record 0 of Set 1 : saint-augustin\n",
      "Processing Record 0 of Set 1 : cabo san lucas\n",
      "City not found. Skipping...\n",
      "Processing Record 0 of Set 1 : saint-francois\n",
      "Processing Record 0 of Set 1 : hilo\n",
      "Processing Record 0 of Set 1 : vostok\n",
      "Processing Record 0 of Set 1 : batagay-alyta\n",
      "Processing Record 0 of Set 1 : arraial do cabo\n",
      "Processing Record 0 of Set 1 : biak\n",
      "Processing Record 0 of Set 1 : cape town\n",
      "City not found. Skipping...\n",
      "City not found. Skipping...\n",
      "Processing Record 0 of Set 1 : xining\n",
      "Processing Record 0 of Set 1 : boa vista\n",
      "Processing Record 0 of Set 1 : port alfred\n",
      "Processing Record 0 of Set 1 : kita\n",
      "Processing Record 0 of Set 1 : meadow lake\n",
      "Processing Record 0 of Set 1 : morgan city\n",
      "City not found. Skipping...\n",
      "Processing Record 0 of Set 1 : padang\n",
      "Processing Record 0 of Set 1 : calamar\n",
      "Processing Record 0 of Set 1 : kavaratti\n",
      "Processing Record 0 of Set 1 : wynyard\n",
      "Processing Record 0 of Set 1 : sao francisco do sul\n",
      "City not found. Skipping...\n",
      "Processing Record 0 of Set 1 : chuy\n",
      "Processing Record 0 of Set 1 : praia da vitoria\n",
      "Processing Record 0 of Set 1 : nantucket\n",
      "Processing Record 0 of Set 1 : siparia\n",
      "Processing Record 0 of Set 1 : berbera\n",
      "Processing Record 0 of Set 1 : gazanjyk\n",
      "Processing Record 0 of Set 1 : klaksvik\n",
      "Processing Record 0 of Set 1 : general roca\n",
      "Processing Record 0 of Set 1 : kapaa\n",
      "Processing Record 0 of Set 1 : ahipara\n",
      "Processing Record 0 of Set 1 : pahrump\n",
      "Processing Record 0 of Set 1 : jamestown\n",
      "Processing Record 0 of Set 1 : umm lajj\n",
      "Processing Record 0 of Set 1 : dwarka\n",
      "Processing Record 0 of Set 1 : esperance\n",
      "Processing Record 0 of Set 1 : batavia\n",
      "Processing Record 0 of Set 1 : aksu\n",
      "Processing Record 0 of Set 1 : linxia\n",
      "Processing Record 0 of Set 1 : hithadhoo\n",
      "Processing Record 0 of Set 1 : yabrud\n",
      "Processing Record 0 of Set 1 : dingle\n",
      "Processing Record 0 of Set 1 : cootamundra\n",
      "Processing Record 0 of Set 1 : sao joao da barra\n",
      "Processing Record 0 of Set 1 : agadir\n",
      "Processing Record 0 of Set 1 : clyde river\n",
      "Processing Record 0 of Set 1 : alyangula\n",
      "Processing Record 0 of Set 1 : mar del plata\n",
      "Processing Record 0 of Set 1 : ewa beach\n",
      "Processing Record 0 of Set 1 : kansanshi\n",
      "Processing Record 0 of Set 1 : kilindoni\n",
      "Processing Record 0 of Set 1 : georgetown\n",
      "Processing Record 0 of Set 1 : changji\n",
      "Processing Record 0 of Set 1 : nikolskoye\n",
      "City not found. Skipping...\n",
      "Processing Record 0 of Set 1 : beringovskiy\n",
      "City not found. Skipping...\n",
      "City not found. Skipping...\n",
      "Processing Record 0 of Set 1 : erenhot\n",
      "Processing Record 0 of Set 1 : vanavara\n",
      "Processing Record 0 of Set 1 : conde\n",
      "Processing Record 0 of Set 1 : lorengau\n",
      "City not found. Skipping...\n",
      "Processing Record 0 of Set 1 : evensk\n",
      "Processing Record 0 of Set 1 : ornskoldsvik\n",
      "Processing Record 0 of Set 1 : northam\n",
      "Processing Record 0 of Set 1 : olafsvik\n",
      "Processing Record 0 of Set 1 : arman\n",
      "Processing Record 0 of Set 1 : solnechnyy\n",
      "Processing Record 0 of Set 1 : belmopan\n",
      "City not found. Skipping...\n",
      "Processing Record 0 of Set 1 : mocuba\n",
      "Processing Record 0 of Set 1 : paamiut\n",
      "Processing Record 0 of Set 1 : mogadouro\n",
      "Processing Record 0 of Set 1 : chokurdakh\n",
      "Processing Record 0 of Set 1 : pimentel\n",
      "Processing Record 0 of Set 1 : alekseyevsk\n",
      "Processing Record 0 of Set 1 : aklavik\n",
      "Processing Record 0 of Set 1 : ouargaye\n",
      "City not found. Skipping...\n",
      "Processing Record 0 of Set 1 : avesta\n"
     ]
    },
    {
     "name": "stdout",
     "output_type": "stream",
     "text": [
      "Processing Record 0 of Set 1 : constitucion\n",
      "Processing Record 0 of Set 1 : grindavik\n",
      "Processing Record 0 of Set 1 : turukhansk\n",
      "Processing Record 0 of Set 1 : sola\n",
      "Processing Record 0 of Set 1 : linfen\n",
      "Processing Record 0 of Set 1 : wainwright\n",
      "Processing Record 0 of Set 1 : panama city\n",
      "Processing Record 0 of Set 1 : coruripe\n",
      "Processing Record 0 of Set 1 : tazovskiy\n",
      "Processing Record 0 of Set 1 : riyadh\n",
      "Processing Record 0 of Set 1 : nanortalik\n",
      "Processing Record 0 of Set 1 : tuatapere\n",
      "Processing Record 0 of Set 1 : hirado\n",
      "Processing Record 0 of Set 1 : palmas bellas\n",
      "Processing Record 0 of Set 1 : lebu\n",
      "Processing Record 0 of Set 1 : roding\n",
      "Processing Record 0 of Set 1 : tabuk\n",
      "Processing Record 0 of Set 1 : kahului\n",
      "Processing Record 0 of Set 1 : pareora\n",
      "Processing Record 0 of Set 1 : turan\n",
      "Processing Record 0 of Set 1 : chardara\n",
      "Processing Record 0 of Set 1 : cap malheureux\n",
      "Processing Record 0 of Set 1 : tsabong\n",
      "Processing Record 0 of Set 1 : lamu\n",
      "Processing Record 0 of Set 1 : raudeberg\n",
      "City not found. Skipping...\n",
      "Processing Record 0 of Set 1 : kiruna\n",
      "Processing Record 0 of Set 1 : bethel\n",
      "Processing Record 0 of Set 1 : kavieng\n",
      "Processing Record 0 of Set 1 : quatre cocos\n",
      "Processing Record 0 of Set 1 : tiksi\n",
      "Processing Record 0 of Set 1 : tura\n",
      "Processing Record 0 of Set 1 : grand forks\n",
      "Processing Record 0 of Set 1 : narsaq\n",
      "Processing Record 0 of Set 1 : santa maria\n",
      "Processing Record 0 of Set 1 : gamba\n",
      "Processing Record 0 of Set 1 : port-gentil\n",
      "Processing Record 0 of Set 1 : kalmunai\n",
      "Processing Record 0 of Set 1 : east london\n",
      "Processing Record 0 of Set 1 : richards bay\n",
      "City not found. Skipping...\n",
      "Processing Record 0 of Set 1 : izumo\n",
      "Processing Record 0 of Set 1 : rivadavia\n",
      "Processing Record 0 of Set 1 : gambo\n",
      "Processing Record 0 of Set 1 : saint-philippe\n",
      "Processing Record 0 of Set 1 : chokwe\n",
      "Processing Record 0 of Set 1 : berlevag\n",
      "Processing Record 0 of Set 1 : dese\n",
      "Processing Record 0 of Set 1 : humaita\n",
      "Processing Record 0 of Set 1 : itoman\n",
      "Processing Record 0 of Set 1 : nome\n",
      "Processing Record 0 of Set 1 : kargasok\n",
      "Processing Record 0 of Set 1 : celestun\n",
      "Processing Record 0 of Set 1 : te anau\n",
      "Processing Record 0 of Set 1 : santiago del estero\n",
      "Processing Record 0 of Set 1 : porto novo\n",
      "Processing Record 0 of Set 1 : surt\n",
      "Processing Record 0 of Set 1 : lavrentiya\n",
      "Processing Record 0 of Set 1 : phonhong\n",
      "Processing Record 0 of Set 1 : santa isabel do rio negro\n",
      "City not found. Skipping...\n",
      "Processing Record 0 of Set 1 : henties bay\n",
      "Processing Record 0 of Set 1 : kununurra\n",
      "Processing Record 0 of Set 1 : shu\n",
      "Processing Record 0 of Set 1 : port hardy\n",
      "Processing Record 0 of Set 1 : bilibino\n",
      "Processing Record 0 of Set 1 : camocim\n",
      "Processing Record 0 of Set 1 : severo-kurilsk\n",
      "Processing Record 0 of Set 1 : tilichiki\n",
      "Processing Record 0 of Set 1 : emerald\n",
      "Processing Record 0 of Set 1 : novyy urengoy\n",
      "Processing Record 0 of Set 1 : mahajanga\n",
      "Processing Record 0 of Set 1 : roald\n",
      "Processing Record 0 of Set 1 : almenara\n",
      "Processing Record 0 of Set 1 : shelburne\n",
      "Processing Record 0 of Set 1 : sitka\n",
      "Processing Record 0 of Set 1 : deputatskiy\n",
      "Processing Record 0 of Set 1 : port lincoln\n",
      "Processing Record 0 of Set 1 : klyuchi\n",
      "City not found. Skipping...\n",
      "Processing Record 0 of Set 1 : kampot\n",
      "Processing Record 0 of Set 1 : les cayes\n",
      "City not found. Skipping...\n",
      "Processing Record 0 of Set 1 : dedza\n",
      "Processing Record 0 of Set 1 : bella union\n",
      "Processing Record 0 of Set 1 : nuevitas\n",
      "Processing Record 0 of Set 1 : nemuro\n",
      "Processing Record 0 of Set 1 : vila franca do campo\n",
      "Processing Record 0 of Set 1 : barcelos\n",
      "Processing Record 0 of Set 1 : chekhov\n",
      "Processing Record 0 of Set 1 : katsuura\n",
      "Processing Record 0 of Set 1 : negombo\n",
      "Processing Record 0 of Set 1 : balkanabat\n",
      "Processing Record 0 of Set 1 : santa rosa\n",
      "Processing Record 0 of Set 1 : buala\n",
      "Processing Record 0 of Set 1 : andili\n",
      "Processing Record 0 of Set 1 : kurchatov\n",
      "Processing Record 0 of Set 1 : ust-kulom\n",
      "Processing Record 0 of Set 1 : sangar\n",
      "Processing Record 0 of Set 1 : yatou\n",
      "City not found. Skipping...\n",
      "Processing Record 0 of Set 1 : ferme-neuve\n",
      "Processing Record 0 of Set 1 : santa cruz\n",
      "Processing Record 0 of Set 1 : kaitangata\n",
      "Processing Record 0 of Set 1 : bathsheba\n",
      "City not found. Skipping...\n",
      "Processing Record 0 of Set 1 : dubuque\n",
      "Processing Record 0 of Set 1 : ulagan\n",
      "Processing Record 0 of Set 1 : sonoita\n",
      "Processing Record 0 of Set 1 : vieux-habitants\n",
      "Processing Record 0 of Set 1 : ahuimanu\n",
      "City not found. Skipping...\n",
      "Processing Record 0 of Set 1 : konya\n",
      "Processing Record 0 of Set 1 : touros\n",
      "Processing Record 0 of Set 1 : vestmannaeyjar\n",
      "Processing Record 0 of Set 1 : fairbanks\n",
      "Processing Record 0 of Set 1 : general teran\n",
      "Processing Record 0 of Set 1 : rhyl\n",
      "Processing Record 0 of Set 1 : otane\n",
      "Processing Record 0 of Set 1 : puerto leguizamo\n",
      "City not found. Skipping...\n",
      "Processing Record 0 of Set 1 : isangel\n",
      "Processing Record 0 of Set 1 : karratha\n",
      "Processing Record 0 of Set 1 : rock sound\n",
      "Processing Record 0 of Set 1 : mayo\n",
      "Processing Record 0 of Set 1 : erdenet\n",
      "Processing Record 0 of Set 1 : castelnau-le-lez\n",
      "Processing Record 0 of Set 1 : san carlos\n",
      "Processing Record 0 of Set 1 : thanh hoa\n",
      "Processing Record 0 of Set 1 : fomboni\n",
      "Processing Record 0 of Set 1 : fallon\n",
      "City not found. Skipping...\n",
      "Processing Record 0 of Set 1 : port blair\n",
      "Processing Record 0 of Set 1 : sarakhs\n",
      "Processing Record 0 of Set 1 : ondjiva\n",
      "Processing Record 0 of Set 1 : beinamar\n",
      "Processing Record 0 of Set 1 : byron bay\n",
      "Processing Record 0 of Set 1 : manzhouli\n",
      "Processing Record 0 of Set 1 : provideniya\n",
      "Processing Record 0 of Set 1 : erdemli\n",
      "Processing Record 0 of Set 1 : husavik\n",
      "Processing Record 0 of Set 1 : gushikawa\n",
      "Processing Record 0 of Set 1 : toccoa\n",
      "Processing Record 0 of Set 1 : yar-sale\n",
      "Processing Record 0 of Set 1 : keti bandar\n",
      "Processing Record 0 of Set 1 : terenos\n",
      "Processing Record 0 of Set 1 : talcahuano\n",
      "Processing Record 0 of Set 1 : ilulissat\n",
      "Processing Record 0 of Set 1 : velsk\n",
      "City not found. Skipping...\n",
      "Processing Record 0 of Set 1 : palmer\n",
      "Processing Record 0 of Set 1 : okhotsk\n",
      "Processing Record 0 of Set 1 : vardo\n",
      "Processing Record 0 of Set 1 : meerane\n",
      "Processing Record 0 of Set 1 : mareeba\n",
      "Processing Record 0 of Set 1 : olot\n",
      "City not found. Skipping...\n",
      "Processing Record 0 of Set 1 : souillac\n",
      "Processing Record 0 of Set 1 : yamada\n",
      "Processing Record 0 of Set 1 : cap-aux-meules\n",
      "Processing Record 0 of Set 1 : taoudenni\n",
      "City not found. Skipping...\n",
      "Processing Record 0 of Set 1 : ketchikan\n",
      "Processing Record 0 of Set 1 : namatanai\n",
      "Processing Record 0 of Set 1 : bilma\n",
      "Processing Record 0 of Set 1 : jiuquan\n",
      "Processing Record 0 of Set 1 : nyakabindi\n",
      "Processing Record 0 of Set 1 : rio gallegos\n",
      "Processing Record 0 of Set 1 : pinar del rio\n",
      "Processing Record 0 of Set 1 : las palmas\n",
      "Processing Record 0 of Set 1 : romny\n",
      "Processing Record 0 of Set 1 : lazaro cardenas\n",
      "Processing Record 0 of Set 1 : laguna\n",
      "Processing Record 0 of Set 1 : cooma\n",
      "Processing Record 0 of Set 1 : hobyo\n",
      "Processing Record 0 of Set 1 : mount isa\n",
      "Processing Record 0 of Set 1 : ust-maya\n",
      "Processing Record 0 of Set 1 : hangu\n",
      "Processing Record 0 of Set 1 : bedong\n",
      "Processing Record 0 of Set 1 : port shepstone\n",
      "Processing Record 0 of Set 1 : acari\n",
      "Processing Record 0 of Set 1 : orchard homes\n",
      "Processing Record 0 of Set 1 : port hedland\n",
      "Processing Record 0 of Set 1 : lodja\n",
      "City not found. Skipping...\n",
      "Processing Record 0 of Set 1 : medea\n",
      "Processing Record 0 of Set 1 : puttlingen\n",
      "Processing Record 0 of Set 1 : astoria\n",
      "Processing Record 0 of Set 1 : margate\n",
      "Processing Record 0 of Set 1 : karacabey\n",
      "Processing Record 0 of Set 1 : samarai\n",
      "Processing Record 0 of Set 1 : banjar\n",
      "Processing Record 0 of Set 1 : pevek\n",
      "Processing Record 0 of Set 1 : muros\n",
      "Processing Record 0 of Set 1 : vallenar\n",
      "Processing Record 0 of Set 1 : jamame\n",
      "Processing Record 0 of Set 1 : winnemucca\n",
      "Processing Record 0 of Set 1 : inuvik\n",
      "Processing Record 0 of Set 1 : longkou\n",
      "City not found. Skipping...\n",
      "City not found. Skipping...\n",
      "Processing Record 0 of Set 1 : sao sebastiao do passe\n",
      "Processing Record 0 of Set 1 : viedma\n",
      "Processing Record 0 of Set 1 : petukhovo\n",
      "Processing Record 0 of Set 1 : kalevala\n",
      "Processing Record 0 of Set 1 : chunhuhub\n",
      "Processing Record 0 of Set 1 : sarlat-la-caneda\n",
      "Processing Record 0 of Set 1 : victor harbor\n"
     ]
    },
    {
     "name": "stdout",
     "output_type": "stream",
     "text": [
      "Processing Record 0 of Set 1 : mercedes\n",
      "Processing Record 0 of Set 1 : manta\n",
      "Processing Record 0 of Set 1 : hasaki\n",
      "Processing Record 0 of Set 1 : kungurtug\n",
      "Processing Record 0 of Set 1 : meiktila\n",
      "Processing Record 0 of Set 1 : synya\n",
      "Processing Record 0 of Set 1 : sale\n",
      "Processing Record 0 of Set 1 : porto velho\n",
      "Processing Record 0 of Set 1 : vestmanna\n",
      "Processing Record 0 of Set 1 : lewistown\n",
      "City not found. Skipping...\n",
      "City not found. Skipping...\n",
      "Processing Record 0 of Set 1 : semnan\n",
      "Processing Record 0 of Set 1 : san quintin\n",
      "Processing Record 0 of Set 1 : itarema\n",
      "Processing Record 0 of Set 1 : moree\n",
      "Processing Record 0 of Set 1 : palafrugell\n",
      "Processing Record 0 of Set 1 : malkangiri\n",
      "City not found. Skipping...\n",
      "Processing Record 0 of Set 1 : airai\n",
      "Processing Record 0 of Set 1 : woodward\n",
      "Processing Record 0 of Set 1 : nakambala\n",
      "Processing Record 0 of Set 1 : nisia floresta\n",
      "Processing Record 0 of Set 1 : torbay\n",
      "Processing Record 0 of Set 1 : omboue\n",
      "Processing Record 0 of Set 1 : jalu\n",
      "Processing Record 0 of Set 1 : oranjemund\n",
      "City not found. Skipping...\n",
      "Processing Record 0 of Set 1 : eyl\n",
      "Processing Record 0 of Set 1 : dunedin\n",
      "City not found. Skipping...\n",
      "City not found. Skipping...\n",
      "Processing Record 0 of Set 1 : hede\n",
      "Processing Record 0 of Set 1 : bud\n",
      "Processing Record 0 of Set 1 : morant bay\n",
      "Processing Record 0 of Set 1 : cayenne\n",
      "Processing Record 0 of Set 1 : ebebiyin\n",
      "Processing Record 0 of Set 1 : tatawin\n",
      "Processing Record 0 of Set 1 : san miguel\n",
      "Processing Record 0 of Set 1 : miyako\n",
      "Processing Record 0 of Set 1 : leningradskiy\n",
      "Processing Record 0 of Set 1 : scunthorpe\n",
      "Processing Record 0 of Set 1 : copperas cove\n",
      "Processing Record 0 of Set 1 : ghanzi\n",
      "Processing Record 0 of Set 1 : pimenta bueno\n",
      "Processing Record 0 of Set 1 : saint george\n",
      "Processing Record 0 of Set 1 : parana\n",
      "Processing Record 0 of Set 1 : goroka\n",
      "City not found. Skipping...\n",
      "Processing Record 0 of Set 1 : namibe\n",
      "Processing Record 0 of Set 1 : ponta delgada\n",
      "Processing Record 0 of Set 1 : cozumel\n",
      "Processing Record 0 of Set 1 : zorritos\n",
      "Processing Record 0 of Set 1 : kirovskiy\n",
      "Processing Record 0 of Set 1 : coahuayana\n",
      "Processing Record 0 of Set 1 : conceicao do araguaia\n",
      "Processing Record 0 of Set 1 : markova\n",
      "Processing Record 0 of Set 1 : morros\n",
      "Processing Record 0 of Set 1 : kajiado\n",
      "Processing Record 0 of Set 1 : pisco\n",
      "Processing Record 0 of Set 1 : luderitz\n",
      "Processing Record 0 of Set 1 : goderich\n",
      "Processing Record 0 of Set 1 : bodden town\n",
      "Processing Record 0 of Set 1 : ust-kan\n",
      "City not found. Skipping...\n",
      "Processing Record 0 of Set 1 : greytown\n",
      "Processing Record 0 of Set 1 : katobu\n",
      "Processing Record 0 of Set 1 : balaipungut\n",
      "Processing Record 0 of Set 1 : zaozerne\n",
      "City not found. Skipping...\n",
      "Processing Record 0 of Set 1 : todos santos\n",
      "Processing Record 0 of Set 1 : pangnirtung\n",
      "Processing Record 0 of Set 1 : wewak\n",
      "Processing Record 0 of Set 1 : norman wells\n",
      "Processing Record 0 of Set 1 : jiazi\n",
      "City not found. Skipping...\n",
      "Processing Record 0 of Set 1 : nikki\n",
      "Processing Record 0 of Set 1 : ramsar\n",
      "Processing Record 0 of Set 1 : kutum\n",
      "Processing Record 0 of Set 1 : nortelandia\n",
      "Processing Record 0 of Set 1 : wajima\n",
      "City not found. Skipping...\n",
      "Processing Record 0 of Set 1 : merauke\n",
      "Processing Record 0 of Set 1 : bengkulu\n",
      "Processing Record 0 of Set 1 : tessalit\n",
      "Processing Record 0 of Set 1 : tongren\n",
      "Processing Record 0 of Set 1 : konstantinovka\n",
      "Processing Record 0 of Set 1 : ambilobe\n",
      "Processing Record 0 of Set 1 : guarapuava\n",
      "Processing Record 0 of Set 1 : okha\n",
      "City not found. Skipping...\n",
      "Processing Record 0 of Set 1 : ulaanbaatar\n",
      "Processing Record 0 of Set 1 : terme\n",
      "Processing Record 0 of Set 1 : koumac\n",
      "Processing Record 0 of Set 1 : chernyshevskiy\n",
      "Processing Record 0 of Set 1 : lompoc\n",
      "Processing Record 0 of Set 1 : ouadda\n",
      "Processing Record 0 of Set 1 : trogir\n",
      "Processing Record 0 of Set 1 : calama\n",
      "City not found. Skipping...\n",
      "Processing Record 0 of Set 1 : sept-iles\n",
      "Processing Record 0 of Set 1 : los llanos de aridane\n",
      "City not found. Skipping...\n",
      "Processing Record 0 of Set 1 : owando\n",
      "Processing Record 0 of Set 1 : tucurui\n",
      "Processing Record 0 of Set 1 : urengoy\n",
      "Processing Record 0 of Set 1 : knysna\n",
      "Processing Record 0 of Set 1 : semirom\n",
      "Processing Record 0 of Set 1 : kenora\n",
      "Processing Record 0 of Set 1 : hamilton\n",
      "Processing Record 0 of Set 1 : cidreira\n",
      "City not found. Skipping...\n",
      "City not found. Skipping...\n",
      "Processing Record 0 of Set 1 : waipawa\n",
      "Processing Record 0 of Set 1 : pitsunda\n",
      "Processing Record 0 of Set 1 : araouane\n",
      "Processing Record 0 of Set 1 : rostock\n",
      "Processing Record 0 of Set 1 : ostrovnoy\n",
      "Processing Record 0 of Set 1 : nuuk\n",
      "Processing Record 0 of Set 1 : champerico\n",
      "Processing Record 0 of Set 1 : chifeng\n",
      "Processing Record 0 of Set 1 : kenai\n",
      "Processing Record 0 of Set 1 : kwinana\n",
      "Processing Record 0 of Set 1 : ilhabela\n",
      "Processing Record 0 of Set 1 : sisimiut\n",
      "Processing Record 0 of Set 1 : montepuez\n",
      "Processing Record 0 of Set 1 : sri aman\n",
      "Processing Record 0 of Set 1 : inta\n",
      "Processing Record 0 of Set 1 : la rioja\n",
      "Processing Record 0 of Set 1 : gat\n",
      "Processing Record 0 of Set 1 : bubaque\n",
      "Processing Record 0 of Set 1 : necochea\n",
      "Processing Record 0 of Set 1 : sao jose da coroa grande\n",
      "Processing Record 0 of Set 1 : quesnel\n",
      "Processing Record 0 of Set 1 : teguise\n",
      "City not found. Skipping...\n",
      "Processing Record 0 of Set 1 : malia\n",
      "Processing Record 0 of Set 1 : carnot\n",
      "Processing Record 0 of Set 1 : el alto\n",
      "Processing Record 0 of Set 1 : lasa\n",
      "City not found. Skipping...\n",
      "Processing Record 0 of Set 1 : mountain home\n",
      "Processing Record 0 of Set 1 : dzhebariki-khaya\n",
      "Processing Record 0 of Set 1 : evans\n",
      "Processing Record 0 of Set 1 : usinsk\n",
      "City not found. Skipping...\n",
      "Processing Record 0 of Set 1 : ilo\n",
      "Processing Record 0 of Set 1 : taksimo\n",
      "Processing Record 0 of Set 1 : freeport\n",
      "Processing Record 0 of Set 1 : palana\n",
      "Processing Record 0 of Set 1 : bocana de paiwas\n",
      "Processing Record 0 of Set 1 : ucluelet\n",
      "Processing Record 0 of Set 1 : geraldton\n",
      "Processing Record 0 of Set 1 : arona\n",
      "Processing Record 0 of Set 1 : owensboro\n",
      "Processing Record 0 of Set 1 : borova\n",
      "Processing Record 0 of Set 1 : charters towers\n",
      "Processing Record 0 of Set 1 : nokaneng\n",
      "Processing Record 0 of Set 1 : port augusta\n",
      "Processing Record 0 of Set 1 : bratsk\n",
      "Processing Record 0 of Set 1 : elko\n",
      "Processing Record 0 of Set 1 : tevaitoa\n",
      "Processing Record 0 of Set 1 : chitral\n",
      "Processing Record 0 of Set 1 : japura\n",
      "Processing Record 0 of Set 1 : banjarmasin\n",
      "Processing Record 0 of Set 1 : aasiaat\n",
      "Processing Record 0 of Set 1 : peterhead\n",
      "Processing Record 0 of Set 1 : san carlos de bariloche\n",
      "Processing Record 0 of Set 1 : faanui\n",
      "Processing Record 0 of Set 1 : hambantota\n",
      "Processing Record 0 of Set 1 : xai-xai\n",
      "Processing Record 0 of Set 1 : iralaya\n",
      "City not found. Skipping...\n",
      "City not found. Skipping...\n",
      "Processing Record 0 of Set 1 : manavalakurichi\n",
      "Processing Record 0 of Set 1 : dandong\n",
      "Processing Record 0 of Set 1 : betioky\n",
      "Processing Record 0 of Set 1 : auchel\n",
      "Processing Record 0 of Set 1 : butte\n",
      "Processing Record 0 of Set 1 : komsomolskiy\n",
      "City not found. Skipping...\n",
      "Processing Record 0 of Set 1 : vilyuysk\n",
      "Processing Record 0 of Set 1 : castrillon\n",
      "Processing Record 0 of Set 1 : panzhihua\n",
      "City not found. Skipping...\n",
      "Processing Record 0 of Set 1 : yelan-koleno\n",
      "Processing Record 0 of Set 1 : strakonice\n",
      "Processing Record 0 of Set 1 : bang krathum\n",
      "Processing Record 0 of Set 1 : manaus\n",
      "Processing Record 0 of Set 1 : louth\n",
      "Processing Record 0 of Set 1 : baltiysk\n",
      "Processing Record 0 of Set 1 : gubden\n",
      "Processing Record 0 of Set 1 : gaoua\n",
      "Processing Record 0 of Set 1 : pingliang\n",
      "Processing Record 0 of Set 1 : sinnamary\n",
      "Processing Record 0 of Set 1 : suluq\n",
      "Processing Record 0 of Set 1 : togur\n",
      "Processing Record 0 of Set 1 : tibu\n",
      "Processing Record 0 of Set 1 : bogo\n",
      "Processing Record 0 of Set 1 : corozal\n",
      "Processing Record 0 of Set 1 : the valley\n",
      "Processing Record 0 of Set 1 : san patricio\n",
      "City not found. Skipping...\n",
      "Processing Record 0 of Set 1 : longyearbyen\n",
      "Processing Record 0 of Set 1 : bandarbeyla\n",
      "Processing Record 0 of Set 1 : jardim\n",
      "Processing Record 0 of Set 1 : loiza\n",
      "Processing Record 0 of Set 1 : great yarmouth\n",
      "Processing Record 0 of Set 1 : brae\n",
      "Processing Record 0 of Set 1 : korcula\n",
      "Processing Record 0 of Set 1 : vanimo\n",
      "Processing Record 0 of Set 1 : seminole\n"
     ]
    },
    {
     "name": "stdout",
     "output_type": "stream",
     "text": [
      "Processing Record 0 of Set 1 : ocos\n",
      "Processing Record 0 of Set 1 : banda aceh\n",
      "Processing Record 0 of Set 1 : foumban\n",
      "City not found. Skipping...\n",
      "Processing Record 0 of Set 1 : mayumba\n",
      "Processing Record 0 of Set 1 : lahaina\n",
      "Processing Record 0 of Set 1 : wilmington\n",
      "Processing Record 0 of Set 1 : ojhar\n",
      "-----------------------------\n",
      "Data Retrieval Complete\n",
      "-----------------------------\n"
     ]
    }
   ],
   "source": [
    "print(\"Beginning Data Retrieval \")\n",
    "print(\"-----------------------------\")\n",
    "\n",
    "base_url = \"http://api.openweathermap.org/data/2.5/weather?\"\n",
    "units = \"imperial\"\n",
    "query_url = f\"{base_url}appid={api_key}&units={units}&q=\"\n",
    "\n",
    "\n",
    "# For each city name in cities list, do below things...\n",
    "for city in cities:\n",
    "    try:\n",
    "        response = requests.get(query_url + city).json()\n",
    "        city_name.append(response[\"name\"])\n",
    "        cloudiness.append(response[\"clouds\"][\"all\"])\n",
    "        country.append(response[\"sys\"][\"country\"])\n",
    "        date.append(response[\"dt\"])\n",
    "        humidity.append(response[\"main\"][\"humidity\"])\n",
    "        lat.append(response[\"coord\"][\"lat\"])\n",
    "        lng.append(response[\"coord\"][\"lon\"])\n",
    "        temperature.append(response['main']['temp_max'])\n",
    "        wind.append(response[\"wind\"][\"speed\"])\n",
    "        if index_zero > 49:\n",
    "            index_counter = 0\n",
    "            set_counter = set_counter + 1\n",
    "    \n",
    "        else:\n",
    "            index_counter = index_counter + 1\n",
    "            \n",
    "        print(f\"Processing Record {index_counter} of Set {set_one} : {city}\") \n",
    "  \n",
    "    except(KeyError, IndexError):\n",
    "        print(\"City not found. Skipping...\")\n",
    "\n",
    "print(\"-----------------------------\")\n",
    "print(\"Data Retrieval Complete\")\n",
    "print(\"-----------------------------\")\n",
    "        "
   ]
  },
  {
   "cell_type": "markdown",
   "metadata": {},
   "source": [
    "### Convert Raw Data to DataFrame\n",
    "* Export the city data into a .csv.\n",
    "* Display the DataFrame"
   ]
  },
  {
   "cell_type": "code",
   "execution_count": 158,
   "metadata": {},
   "outputs": [
    {
     "data": {
      "text/html": [
       "<div>\n",
       "<style scoped>\n",
       "    .dataframe tbody tr th:only-of-type {\n",
       "        vertical-align: middle;\n",
       "    }\n",
       "\n",
       "    .dataframe tbody tr th {\n",
       "        vertical-align: top;\n",
       "    }\n",
       "\n",
       "    .dataframe thead th {\n",
       "        text-align: right;\n",
       "    }\n",
       "</style>\n",
       "<table border=\"1\" class=\"dataframe\">\n",
       "  <thead>\n",
       "    <tr style=\"text-align: right;\">\n",
       "      <th></th>\n",
       "      <th>City</th>\n",
       "      <th>Latitude</th>\n",
       "      <th>Longitude</th>\n",
       "      <th>Temperature</th>\n",
       "      <th>Humidity</th>\n",
       "      <th>Cloudiness</th>\n",
       "      <th>Wind Speed</th>\n",
       "      <th>Country</th>\n",
       "      <th>Date</th>\n",
       "    </tr>\n",
       "  </thead>\n",
       "  <tbody>\n",
       "    <tr>\n",
       "      <th>0</th>\n",
       "      <td>Jinchang</td>\n",
       "      <td>38.50</td>\n",
       "      <td>102.17</td>\n",
       "      <td>60.91</td>\n",
       "      <td>45</td>\n",
       "      <td>100</td>\n",
       "      <td>27.36</td>\n",
       "      <td>CN</td>\n",
       "      <td>1598652218</td>\n",
       "    </tr>\n",
       "    <tr>\n",
       "      <th>1</th>\n",
       "      <td>Noumea</td>\n",
       "      <td>-22.28</td>\n",
       "      <td>166.46</td>\n",
       "      <td>68.00</td>\n",
       "      <td>82</td>\n",
       "      <td>100</td>\n",
       "      <td>1.12</td>\n",
       "      <td>NC</td>\n",
       "      <td>1598652185</td>\n",
       "    </tr>\n",
       "    <tr>\n",
       "      <th>2</th>\n",
       "      <td>Rikitea</td>\n",
       "      <td>-23.12</td>\n",
       "      <td>-134.97</td>\n",
       "      <td>68.83</td>\n",
       "      <td>67</td>\n",
       "      <td>0</td>\n",
       "      <td>5.48</td>\n",
       "      <td>PF</td>\n",
       "      <td>1598652063</td>\n",
       "    </tr>\n",
       "    <tr>\n",
       "      <th>3</th>\n",
       "      <td>Arraial do Cabo</td>\n",
       "      <td>-22.97</td>\n",
       "      <td>-42.03</td>\n",
       "      <td>71.60</td>\n",
       "      <td>83</td>\n",
       "      <td>0</td>\n",
       "      <td>14.99</td>\n",
       "      <td>BR</td>\n",
       "      <td>1598652091</td>\n",
       "    </tr>\n",
       "    <tr>\n",
       "      <th>4</th>\n",
       "      <td>Japura</td>\n",
       "      <td>-0.32</td>\n",
       "      <td>102.35</td>\n",
       "      <td>73.54</td>\n",
       "      <td>89</td>\n",
       "      <td>100</td>\n",
       "      <td>2.21</td>\n",
       "      <td>ID</td>\n",
       "      <td>1598652219</td>\n",
       "    </tr>\n",
       "  </tbody>\n",
       "</table>\n",
       "</div>"
      ],
      "text/plain": [
       "              City  Latitude  Longitude  Temperature  Humidity  Cloudiness  \\\n",
       "0         Jinchang     38.50     102.17        60.91        45         100   \n",
       "1           Noumea    -22.28     166.46        68.00        82         100   \n",
       "2          Rikitea    -23.12    -134.97        68.83        67           0   \n",
       "3  Arraial do Cabo    -22.97     -42.03        71.60        83           0   \n",
       "4           Japura     -0.32     102.35        73.54        89         100   \n",
       "\n",
       "   Wind Speed Country        Date  \n",
       "0       27.36      CN  1598652218  \n",
       "1        1.12      NC  1598652185  \n",
       "2        5.48      PF  1598652063  \n",
       "3       14.99      BR  1598652091  \n",
       "4        2.21      ID  1598652219  "
      ]
     },
     "execution_count": 158,
     "metadata": {},
     "output_type": "execute_result"
    }
   ],
   "source": [
    "#dictionary establishing dataframes\n",
    "weather_data = pd.DataFrame ({\n",
    "    \"City\": city_name,\n",
    "    \"Latitude\": lat,\n",
    "    \"Longitude\": lng,\n",
    "    \"Temperature\": temperature,\n",
    "    \"Humidity\": humidity,\n",
    "    \"Cloudiness\": cloudiness,\n",
    "    \"Wind Speed\": wind,\n",
    "    \"Country\": country,\n",
    "    \"Date\": date,\n",
    "})\n",
    "\n",
    "\n",
    "# establish dataframe\n",
    "weather_data = pd.DataFrame(weather_dict)\n",
    "weather_data.to_csv(\"Weather_data.csv\")\n",
    "\n",
    "# show the top of the dataframe\n",
    "weather_data.head()\n"
   ]
  },
  {
   "cell_type": "code",
   "execution_count": 155,
   "metadata": {},
   "outputs": [
    {
     "data": {
      "text/html": [
       "<div>\n",
       "<style scoped>\n",
       "    .dataframe tbody tr th:only-of-type {\n",
       "        vertical-align: middle;\n",
       "    }\n",
       "\n",
       "    .dataframe tbody tr th {\n",
       "        vertical-align: top;\n",
       "    }\n",
       "\n",
       "    .dataframe thead th {\n",
       "        text-align: right;\n",
       "    }\n",
       "</style>\n",
       "<table border=\"1\" class=\"dataframe\">\n",
       "  <thead>\n",
       "    <tr style=\"text-align: right;\">\n",
       "      <th></th>\n",
       "      <th>Latitude</th>\n",
       "      <th>Longitude</th>\n",
       "      <th>Temperature</th>\n",
       "      <th>Humidity</th>\n",
       "      <th>Cloudiness</th>\n",
       "      <th>Wind Speed</th>\n",
       "      <th>Date</th>\n",
       "    </tr>\n",
       "  </thead>\n",
       "  <tbody>\n",
       "    <tr>\n",
       "      <th>count</th>\n",
       "      <td>555.000000</td>\n",
       "      <td>555.000000</td>\n",
       "      <td>555.000000</td>\n",
       "      <td>555.000000</td>\n",
       "      <td>555.000000</td>\n",
       "      <td>555.000000</td>\n",
       "      <td>5.550000e+02</td>\n",
       "    </tr>\n",
       "    <tr>\n",
       "      <th>mean</th>\n",
       "      <td>18.901532</td>\n",
       "      <td>22.614270</td>\n",
       "      <td>67.959243</td>\n",
       "      <td>72.234234</td>\n",
       "      <td>51.317117</td>\n",
       "      <td>8.002577</td>\n",
       "      <td>1.598652e+09</td>\n",
       "    </tr>\n",
       "    <tr>\n",
       "      <th>std</th>\n",
       "      <td>33.489999</td>\n",
       "      <td>89.406098</td>\n",
       "      <td>14.236820</td>\n",
       "      <td>20.454738</td>\n",
       "      <td>38.470022</td>\n",
       "      <td>5.450866</td>\n",
       "      <td>9.071647e+01</td>\n",
       "    </tr>\n",
       "    <tr>\n",
       "      <th>min</th>\n",
       "      <td>-54.800000</td>\n",
       "      <td>-175.200000</td>\n",
       "      <td>32.000000</td>\n",
       "      <td>3.000000</td>\n",
       "      <td>0.000000</td>\n",
       "      <td>0.380000</td>\n",
       "      <td>1.598652e+09</td>\n",
       "    </tr>\n",
       "    <tr>\n",
       "      <th>25%</th>\n",
       "      <td>-8.635000</td>\n",
       "      <td>-53.900000</td>\n",
       "      <td>55.900000</td>\n",
       "      <td>63.000000</td>\n",
       "      <td>11.000000</td>\n",
       "      <td>4.220000</td>\n",
       "      <td>1.598652e+09</td>\n",
       "    </tr>\n",
       "    <tr>\n",
       "      <th>50%</th>\n",
       "      <td>20.520000</td>\n",
       "      <td>25.720000</td>\n",
       "      <td>70.250000</td>\n",
       "      <td>78.000000</td>\n",
       "      <td>50.000000</td>\n",
       "      <td>6.710000</td>\n",
       "      <td>1.598652e+09</td>\n",
       "    </tr>\n",
       "    <tr>\n",
       "      <th>75%</th>\n",
       "      <td>46.460000</td>\n",
       "      <td>102.275000</td>\n",
       "      <td>78.800000</td>\n",
       "      <td>87.000000</td>\n",
       "      <td>90.000000</td>\n",
       "      <td>10.760000</td>\n",
       "      <td>1.598652e+09</td>\n",
       "    </tr>\n",
       "    <tr>\n",
       "      <th>max</th>\n",
       "      <td>78.220000</td>\n",
       "      <td>179.320000</td>\n",
       "      <td>105.800000</td>\n",
       "      <td>100.000000</td>\n",
       "      <td>100.000000</td>\n",
       "      <td>41.380000</td>\n",
       "      <td>1.598652e+09</td>\n",
       "    </tr>\n",
       "  </tbody>\n",
       "</table>\n",
       "</div>"
      ],
      "text/plain": [
       "         Latitude   Longitude  Temperature    Humidity  Cloudiness  \\\n",
       "count  555.000000  555.000000   555.000000  555.000000  555.000000   \n",
       "mean    18.901532   22.614270    67.959243   72.234234   51.317117   \n",
       "std     33.489999   89.406098    14.236820   20.454738   38.470022   \n",
       "min    -54.800000 -175.200000    32.000000    3.000000    0.000000   \n",
       "25%     -8.635000  -53.900000    55.900000   63.000000   11.000000   \n",
       "50%     20.520000   25.720000    70.250000   78.000000   50.000000   \n",
       "75%     46.460000  102.275000    78.800000   87.000000   90.000000   \n",
       "max     78.220000  179.320000   105.800000  100.000000  100.000000   \n",
       "\n",
       "       Wind Speed          Date  \n",
       "count  555.000000  5.550000e+02  \n",
       "mean     8.002577  1.598652e+09  \n",
       "std      5.450866  9.071647e+01  \n",
       "min      0.380000  1.598652e+09  \n",
       "25%      4.220000  1.598652e+09  \n",
       "50%      6.710000  1.598652e+09  \n",
       "75%     10.760000  1.598652e+09  \n",
       "max     41.380000  1.598652e+09  "
      ]
     },
     "execution_count": 155,
     "metadata": {},
     "output_type": "execute_result"
    }
   ],
   "source": [
    "weather_data.describe()"
   ]
  },
  {
   "cell_type": "markdown",
   "metadata": {},
   "source": [
    "## Inspect the data and remove the cities where the humidity > 100%.\n",
    "----\n",
    "Skip this step if there are no cities that have humidity > 100%. "
   ]
  },
  {
   "cell_type": "code",
   "execution_count": 159,
   "metadata": {},
   "outputs": [
    {
     "data": {
      "text/html": [
       "<div>\n",
       "<style scoped>\n",
       "    .dataframe tbody tr th:only-of-type {\n",
       "        vertical-align: middle;\n",
       "    }\n",
       "\n",
       "    .dataframe tbody tr th {\n",
       "        vertical-align: top;\n",
       "    }\n",
       "\n",
       "    .dataframe thead th {\n",
       "        text-align: right;\n",
       "    }\n",
       "</style>\n",
       "<table border=\"1\" class=\"dataframe\">\n",
       "  <thead>\n",
       "    <tr style=\"text-align: right;\">\n",
       "      <th></th>\n",
       "      <th>City</th>\n",
       "      <th>Latitude</th>\n",
       "      <th>Longitude</th>\n",
       "      <th>Temperature</th>\n",
       "      <th>Humidity</th>\n",
       "      <th>Cloudiness</th>\n",
       "      <th>Wind Speed</th>\n",
       "      <th>Country</th>\n",
       "      <th>Date</th>\n",
       "    </tr>\n",
       "  </thead>\n",
       "  <tbody>\n",
       "  </tbody>\n",
       "</table>\n",
       "</div>"
      ],
      "text/plain": [
       "Empty DataFrame\n",
       "Columns: [City, Latitude, Longitude, Temperature, Humidity, Cloudiness, Wind Speed, Country, Date]\n",
       "Index: []"
      ]
     },
     "execution_count": 159,
     "metadata": {},
     "output_type": "execute_result"
    }
   ],
   "source": [
    "#  Get the indices of cities that have humidity over 100%.\n",
    "weather_data.loc[weather_data[\"Humidity\"] > 100]\n",
    "# NONE"
   ]
  },
  {
   "cell_type": "code",
   "execution_count": 160,
   "metadata": {},
   "outputs": [],
   "source": [
    "# Make a new DataFrame equal to the city data to drop all humidity outliers by index.\n",
    "# Passing \"inplace=False\" will make a copy of the city_data DataFrame, which we call \"clean_city_data\".\n",
    "# drop NA\n",
    "cleaned_df = weather_data.dropna(inplace = False) "
   ]
  },
  {
   "cell_type": "markdown",
   "metadata": {},
   "source": [
    "## Plotting the Data\n",
    "* Use proper labeling of the plots using plot titles (including date of analysis) and axes labels.\n",
    "* Save the plotted figures as .pngs."
   ]
  },
  {
   "cell_type": "markdown",
   "metadata": {},
   "source": [
    "## Latitude vs. Temperature Plot"
   ]
  },
  {
   "cell_type": "code",
   "execution_count": 161,
   "metadata": {
    "scrolled": true
   },
   "outputs": [
    {
     "data": {
      "image/png": "[encoded data removed]",
      "text/plain": [
       "<Figure size 432x288 with 1 Axes>"
      ]
     },
     "metadata": {
      "needs_background": "light"
     },
     "output_type": "display_data"
    }
   ],
   "source": [
    "plt.scatter(cleaned_df[\"Latitude\"], cleaned_df[\"Temperature\"], edgecolors= \"black\",facecolors = \"skyblue\")\n",
    "\n",
    "# Incorporate the other graph properties\n",
    "plt.title(\"City Latitude vs. Max Temperature\")\n",
    "plt.xlabel(\"Latitude\")\n",
    "plt.ylabel(\"Max Temperature (F)\")\n",
    "plt.grid(b = True, which=\"major\", axis = \"both\", color =\"lightgrey\")\n",
    "\n",
    "\n",
    "# Show plot\n",
    "plt.show()"
   ]
  },
  {
   "cell_type": "markdown",
   "metadata": {},
   "source": [
    "## Latitude vs. Humidity Plot"
   ]
  },
  {
   "cell_type": "code",
   "execution_count": 162,
   "metadata": {},
   "outputs": [
    {
     "data": {
      "image/png": "[encoded data removed]",
      "text/plain": [
       "<Figure size 432x288 with 1 Axes>"
      ]
     },
     "metadata": {
      "needs_background": "light"
     },
     "output_type": "display_data"
    }
   ],
   "source": [
    "# Humidity (%) vs. Latitude\n",
    "plt.scatter(cleaned_df[\"Latitude\"],cleaned_df[\"Humidity\"],edgecolors=\"black\",facecolors=\"skyblue\")\n",
    "plt.title(\"City Latitude vs. Humidity\")\n",
    "plt.xlabel(\"Latitude\")\n",
    "plt.ylabel(\"Humidity (%)\")\n",
    "plt.grid (b=True,which=\"major\",axis=\"both\",color=\"lightgrey\")\n",
    "plt.show()"
   ]
  },
  {
   "cell_type": "markdown",
   "metadata": {},
   "source": [
    "## Latitude vs. Cloudiness Plot"
   ]
  },
  {
   "cell_type": "code",
   "execution_count": 163,
   "metadata": {},
   "outputs": [
    {
     "data": {
      "image/png": "[encoded data removed]",
      "text/plain": [
       "<Figure size 432x288 with 1 Axes>"
      ]
     },
     "metadata": {
      "needs_background": "light"
     },
     "output_type": "display_data"
    }
   ],
   "source": [
    "# Latitude vs Cloudiness\n",
    "plt.scatter(cleaned_df[\"Latitude\"],cleaned_df[\"Cloudiness\"],edgecolors=\"black\",facecolors=\"skyblue\")\n",
    "plt.title(\"City Latitude vs. Cloudiness\")\n",
    "plt.xlabel(\"Latitude\")\n",
    "plt.ylabel(\"Cloudiness (%)\")\n",
    "plt.grid (b=True,which=\"major\",axis=\"both\",color=\"lightgrey\")\n",
    "plt.show()"
   ]
  },
  {
   "cell_type": "markdown",
   "metadata": {},
   "source": [
    "## Latitude vs. Wind Speed Plot"
   ]
  },
  {
   "cell_type": "code",
   "execution_count": 164,
   "metadata": {},
   "outputs": [
    {
     "data": {
      "image/png": "[encoded data removed]",
      "text/plain": [
       "<Figure size 432x288 with 1 Axes>"
      ]
     },
     "metadata": {
      "needs_background": "light"
     },
     "output_type": "display_data"
    }
   ],
   "source": [
    "# Latitude vs Wind Speed\n",
    "plt.scatter(cleaned_df[\"Latitude\"],cleaned_df[\"Wind Speed\"],edgecolors=\"black\",facecolors=\"skyblue\")\n",
    "plt.title(\"City Latitude vs. Wind Speed\")\n",
    "plt.xlabel(\"Latitude\")\n",
    "plt.ylabel(\"Wind Speed (mph)\")\n",
    "plt.grid (b=True,which=\"major\",axis=\"both\",color=\"lightgrey\")\n",
    "plt.show()"
   ]
  },
  {
   "cell_type": "markdown",
   "metadata": {},
   "source": [
    "## Linear Regression"
   ]
  },
  {
   "cell_type": "code",
   "execution_count": 165,
   "metadata": {},
   "outputs": [],
   "source": [
    "\n",
    "#Split DF into Northern Hemisphere Vs. Southern Hemisphere\n",
    "north_df = cleaned_df.loc[cleaned_df[\"Latitude\"] > 0]\n",
    "south_df = cleaned_df.loc[cleaned_df[\"Latitude\"] < 0]"
   ]
  },
  {
   "cell_type": "markdown",
   "metadata": {},
   "source": [
    "####  Northern Hemisphere - Max Temp vs. Latitude Linear Regression"
   ]
  },
  {
   "cell_type": "code",
   "execution_count": 166,
   "metadata": {},
   "outputs": [
    {
     "name": "stdout",
     "output_type": "stream",
     "text": [
      "y = -0.55x +89.98\n"
     ]
    },
    {
     "data": {
      "image/png": "[encoded data removed]",
      "text/plain": [
       "<Figure size 432x288 with 1 Axes>"
      ]
     },
     "metadata": {
      "needs_background": "light"
     },
     "output_type": "display_data"
    }
   ],
   "source": [
    "x_values = north_df['Latitude']\n",
    "y_values = north_df['Temperature']\n",
    "(slope, intercept, rvalue, pvalue, stderr) = linregress(x_values, y_values)\n",
    "regress_values = x_values * slope + intercept\n",
    "line_eq = \"y = \" + str(round(slope,2)) + \"x +\" + str(round(intercept,2))\n",
    "print(line_eq)\n",
    "\n",
    "plt.scatter(x_values,y_values)\n",
    "plt.plot(x_values,regress_values,\"r-\")\n",
    "\n",
    "plt.xlabel('Latitude')\n",
    "plt.ylabel('Temperature (F)')\n",
    "plt.annotate(line_eq,(20,15),fontsize=15,color=\"red\")\n",
    "\n",
    "plt.show()"
   ]
  },
  {
   "cell_type": "markdown",
   "metadata": {},
   "source": [
    "####  Southern Hemisphere - Max Temp vs. Latitude Linear Regression"
   ]
  },
  {
   "cell_type": "code",
   "execution_count": 167,
   "metadata": {},
   "outputs": [
    {
     "name": "stdout",
     "output_type": "stream",
     "text": [
      "y = 0.75x +81.7\n"
     ]
    },
    {
     "data": {
      "image/png": "[encoded data removed]",
      "text/plain": [
       "<Figure size 432x288 with 1 Axes>"
      ]
     },
     "metadata": {
      "needs_background": "light"
     },
     "output_type": "display_data"
    }
   ],
   "source": [
    "\n",
    "x_values = south_df['Latitude']\n",
    "y_values = south_df['Temperature']\n",
    "(slope, intercept, rvalue, pvalue, stderr) = linregress(x_values, y_values)\n",
    "regress_values = x_values * slope + intercept\n",
    "line_eq = \"y = \" + str(round(slope,2)) + \"x +\" + str(round(intercept,2))\n",
    "print(line_eq)\n",
    "\n",
    "plt.scatter(x_values,y_values)\n",
    "plt.plot(x_values,regress_values,\"r-\")\n",
    "\n",
    "plt.xlabel('Latitude')\n",
    "plt.ylabel('Temperature (F)')\n",
    "plt.annotate(line_eq,(20,15),fontsize=15,color=\"red\")\n",
    "\n",
    "plt.show()"
   ]
  },
  {
   "cell_type": "markdown",
   "metadata": {},
   "source": [
    "####  Northern Hemisphere - Humidity (%) vs. Latitude Linear Regression"
   ]
  },
  {
   "cell_type": "code",
   "execution_count": 168,
   "metadata": {},
   "outputs": [
    {
     "name": "stdout",
     "output_type": "stream",
     "text": [
      "y = -0.06x +75.31\n"
     ]
    },
    {
     "data": {
      "image/png": "[encoded data removed]",
      "text/plain": [
       "<Figure size 432x288 with 1 Axes>"
      ]
     },
     "metadata": {
      "needs_background": "light"
     },
     "output_type": "display_data"
    }
   ],
   "source": [
    "\n",
    "x_values = north_df['Latitude']\n",
    "y_values = north_df['Humidity']\n",
    "(slope, intercept, rvalue, pvalue, stderr) = linregress(x_values, y_values)\n",
    "regress_values = x_values * slope + intercept\n",
    "line_eq = \"y = \" + str(round(slope,2)) + \"x +\" + str(round(intercept,2))\n",
    "print(line_eq)\n",
    "\n",
    "plt.scatter(x_values,y_values)\n",
    "plt.plot(x_values,regress_values,\"r-\")\n",
    "\n",
    "plt.xlabel('Latitude')\n",
    "plt.ylabel('Humidity (%)')\n",
    "plt.annotate(line_eq,(20,15),fontsize=15,color=\"red\")\n",
    "\n",
    "plt.show()\n"
   ]
  },
  {
   "cell_type": "markdown",
   "metadata": {},
   "source": [
    "####  Southern Hemisphere - Humidity (%) vs. Latitude Linear Regression"
   ]
  },
  {
   "cell_type": "code",
   "execution_count": 169,
   "metadata": {},
   "outputs": [
    {
     "name": "stdout",
     "output_type": "stream",
     "text": [
      "y = 0.18x +74.32\n"
     ]
    },
    {
     "data": {
      "image/png": "[encoded data removed]",
      "text/plain": [
       "<Figure size 432x288 with 1 Axes>"
      ]
     },
     "metadata": {
      "needs_background": "light"
     },
     "output_type": "display_data"
    }
   ],
   "source": [
    "\n",
    "x_values = south_df['Latitude']\n",
    "y_values = south_df['Humidity']\n",
    "(slope, intercept, rvalue, pvalue, stderr) = linregress(x_values, y_values)\n",
    "regress_values = x_values * slope + intercept\n",
    "line_eq = \"y = \" + str(round(slope,2)) + \"x +\" + str(round(intercept,2))\n",
    "print(line_eq)\n",
    "\n",
    "plt.scatter(x_values,y_values)\n",
    "plt.plot(x_values,regress_values,\"r-\")\n",
    "\n",
    "plt.xlabel('Latitude')\n",
    "plt.ylabel('Humidity (%)')\n",
    "plt.annotate(line_eq,(20,15),fontsize=15,color=\"red\")\n",
    "\n",
    "plt.show()"
   ]
  },
  {
   "cell_type": "markdown",
   "metadata": {},
   "source": [
    "####  Northern Hemisphere - Cloudiness (%) vs. Latitude Linear Regression"
   ]
  },
  {
   "cell_type": "code",
   "execution_count": 170,
   "metadata": {},
   "outputs": [
    {
     "name": "stdout",
     "output_type": "stream",
     "text": [
      "y = 0.03x +54.99\n"
     ]
    },
    {
     "data": {
      "image/png": "[encoded data removed]",
      "text/plain": [
       "<Figure size 432x288 with 1 Axes>"
      ]
     },
     "metadata": {
      "needs_background": "light"
     },
     "output_type": "display_data"
    }
   ],
   "source": [
    "x_values = north_df['Latitude']\n",
    "y_values = north_df['Cloudiness']\n",
    "(slope, intercept, rvalue, pvalue, stderr) = linregress(x_values, y_values)\n",
    "regress_values = x_values * slope + intercept\n",
    "line_eq = \"y = \" + str(round(slope,2)) + \"x +\" + str(round(intercept,2))\n",
    "print(line_eq)\n",
    "\n",
    "plt.scatter(x_values,y_values)\n",
    "plt.plot(x_values,regress_values,\"r-\")\n",
    "\n",
    "plt.xlabel('Latitude')\n",
    "plt.ylabel('Cloudiness (%)')\n",
    "plt.annotate(line_eq,(20,15),fontsize=15,color=\"red\")\n",
    "\n",
    "plt.show()"
   ]
  },
  {
   "cell_type": "markdown",
   "metadata": {},
   "source": [
    "####  Southern Hemisphere - Cloudiness (%) vs. Latitude Linear Regression"
   ]
  },
  {
   "cell_type": "code",
   "execution_count": 171,
   "metadata": {},
   "outputs": [
    {
     "name": "stdout",
     "output_type": "stream",
     "text": [
      "y = 0.34x +48.28\n"
     ]
    },
    {
     "data": {
      "image/png": "[encoded data removed]",
      "text/plain": [
       "<Figure size 432x288 with 1 Axes>"
      ]
     },
     "metadata": {
      "needs_background": "light"
     },
     "output_type": "display_data"
    }
   ],
   "source": [
    "\n",
    "x_values = south_df['Latitude']\n",
    "y_values = south_df['Cloudiness']\n",
    "(slope, intercept, rvalue, pvalue, stderr) = linregress(x_values, y_values)\n",
    "regress_values = x_values * slope + intercept\n",
    "line_eq = \"y = \" + str(round(slope,2)) + \"x +\" + str(round(intercept,2))\n",
    "print(line_eq)\n",
    "\n",
    "plt.scatter(x_values,y_values)\n",
    "plt.plot(x_values,regress_values,\"r-\")\n",
    "\n",
    "plt.xlabel('Latitude')\n",
    "plt.ylabel('Cloudiness (%)')\n",
    "plt.annotate(line_eq,(20,15),fontsize=15,color=\"red\")\n",
    "\n",
    "plt.show()"
   ]
  },
  {
   "cell_type": "markdown",
   "metadata": {},
   "source": [
    "####  Northern Hemisphere - Wind Speed (mph) vs. Latitude Linear Regression"
   ]
  },
  {
   "cell_type": "code",
   "execution_count": 172,
   "metadata": {},
   "outputs": [
    {
     "name": "stdout",
     "output_type": "stream",
     "text": [
      "y = 0.0x +7.59\n"
     ]
    },
    {
     "data": {
      "image/png": "[encoded data removed]",
      "text/plain": [
       "<Figure size 432x288 with 1 Axes>"
      ]
     },
     "metadata": {
      "needs_background": "light"
     },
     "output_type": "display_data"
    }
   ],
   "source": [
    "x_values = north_df['Latitude']\n",
    "y_values = north_df['Wind Speed']\n",
    "(slope, intercept, rvalue, pvalue, stderr) = linregress(x_values, y_values)\n",
    "regress_values = x_values * slope + intercept\n",
    "line_eq = \"y = \" + str(round(slope,2)) + \"x +\" + str(round(intercept,2))\n",
    "print(line_eq)\n",
    "\n",
    "plt.scatter(x_values,y_values)\n",
    "plt.plot(x_values,regress_values,\"r-\")\n",
    "\n",
    "plt.xlabel('Latitude')\n",
    "plt.ylabel('Wind Speed (mph)')\n",
    "plt.annotate(line_eq,(20,15),fontsize=15,color=\"red\")\n",
    "\n",
    "plt.show()"
   ]
  },
  {
   "cell_type": "markdown",
   "metadata": {},
   "source": [
    "####  Southern Hemisphere - Wind Speed (mph) vs. Latitude Linear Regression"
   ]
  },
  {
   "cell_type": "code",
   "execution_count": 173,
   "metadata": {},
   "outputs": [
    {
     "name": "stdout",
     "output_type": "stream",
     "text": [
      "y = -0.11x +6.3\n"
     ]
    },
    {
     "data": {
      "image/png": "[encoded data removed]",
      "text/plain": [
       "<Figure size 432x288 with 1 Axes>"
      ]
     },
     "metadata": {
      "needs_background": "light"
     },
     "output_type": "display_data"
    }
   ],
   "source": [
    "x_values = south_df['Latitude']\n",
    "y_values = south_df['Wind Speed']\n",
    "(slope, intercept, rvalue, pvalue, stderr) = linregress(x_values, y_values)\n",
    "regress_values = x_values * slope + intercept\n",
    "line_eq = \"y = \" + str(round(slope,2)) + \"x +\" + str(round(intercept,2))\n",
    "print(line_eq)\n",
    "\n",
    "plt.scatter(x_values,y_values)\n",
    "plt.plot(x_values,regress_values,\"r-\")\n",
    "\n",
    "plt.xlabel('Latitude')\n",
    "plt.ylabel('Wind Speed (mph)')\n",
    "plt.annotate(line_eq,(20,15),fontsize=15,color=\"red\")\n",
    "\n",
    "plt.show()"
   ]
  }
 ],
 "metadata": {
  "anaconda-cloud": {},
  "kernel_info": {
   "name": "python3"
  },
  "kernelspec": {
   "display_name": "Python 3",
   "language": "python",
   "name": "python3"
  },
  "language_info": {
   "codemirror_mode": {
    "name": "ipython",
    "version": 3
   },
   "file_extension": ".py",
   "mimetype": "text/x-python",
   "name": "python",
   "nbconvert_exporter": "python",
   "pygments_lexer": "ipython3",
   "version": "3.8.3"
  },
  "latex_envs": {
   "LaTeX_envs_menu_present": true,
   "autoclose": false,
   "autocomplete": true,
   "bibliofile": "biblio.bib",
   "cite_by": "apalike",
   "current_citInitial": 1,
   "eqLabelWithNumbers": true,
   "eqNumInitial": 1,
   "hotkeys": {
    "equation": "Ctrl-E",
    "itemize": "Ctrl-I"
   },
   "labels_anchors": false,
   "latex_user_defs": false,
   "report_style_numbering": false,
   "user_envs_cfg": false
  },
  "nteract": {
   "version": "0.12.3"
  }
 },
 "nbformat": 4,
 "nbformat_minor": 2
}
